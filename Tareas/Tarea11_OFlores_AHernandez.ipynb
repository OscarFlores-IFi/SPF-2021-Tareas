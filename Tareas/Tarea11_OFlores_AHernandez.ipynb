{
 "cells": [
  {
   "cell_type": "markdown",
   "metadata": {},
   "source": [
    "<img style=\"float: left; margin: 30px 15px 15px 15px;\" src=\"https://pngimage.net/wp-content/uploads/2018/06/logo-iteso-png-5.png\" width=\"300\" height=\"500\" /> \n",
    "    \n",
    "    \n",
    "### <font color='navy'> Simulación de procesos financieros. \n",
    "\n",
    "**Nombres:** Oscar Flores y Andres Hernández\n",
    "\n",
    "**Fecha:** 4 de Mayo de 2021\n",
    "\n",
    "**Expediente** : 715029 y 717895\n",
    "**Profesor:** Oscar David Jaramillo Zuluaga.\n",
    "\n",
    "**Link Github:** https://github.com/OscarFlores-IFi/SPF-2021-Tareas\n",
    "\n",
    "# Tarea 11: Clase 24\n",
    "  "
   ]
  },
  {
   "cell_type": "markdown",
   "metadata": {},
   "source": [
    "# Tarea\n",
    "Realizar la valuación de las opciones barrera para las acciones de Microsoft, siguiendo los siguientes lineamientos:\n",
    "1. Realizar la valuación para el tipo de opción barrera 'CALL'- down-and-out, usando la suposición de rendimientos normales y usando el método del histograma. Para ambas valuaciones, comparar los resultados de la evaluación obtenida con los resultados obtenidos por la valuación Europea. Como se realizó en clase.\n",
    "2. Repetir el inciso anterior pero en esta ocasión para el caso de 'PUT'- Up-and-out.\n",
    "\n",
    "**Nota:** Analice los datos descargados y según el método ya sea `down-and-out` o `Up-and-out` defina un strike price usando la volatility smile vista en la clase de opciones europeas y basado en el spot price y el strike defina una barrera adecuada.\n",
    "\n",
    "Se habilitará un enlace en canvas para subir un cuaderno de python, con la solución.\n",
    "\n",
    "**Criterio de revisión.**\n",
    "\n",
    "> Se te calificará de acuerdo a los resultados finales que reportes, basados en tu análisis."
   ]
  },
  {
   "cell_type": "markdown",
   "metadata": {},
   "source": [
    "## Respuesta Oscar"
   ]
  },
  {
   "cell_type": "code",
   "execution_count": 2,
   "metadata": {},
   "outputs": [],
   "source": [
    "#importar los paquetes que se van a usar\n",
    "import pandas as pd\n",
    "import pandas_datareader.data as web\n",
    "import numpy as np\n",
    "from sklearn.neighbors import KernelDensity\n",
    "import datetime\n",
    "from datetime import datetime, timedelta\n",
    "import scipy.stats as st\n",
    "import scipy as sp\n",
    "import scipy.optimize as optimize\n",
    "import scipy.cluster.hierarchy as hac\n",
    "import matplotlib.pyplot as plt\n",
    "import seaborn as sns\n",
    "%matplotlib inline\n",
    "#algunas opciones para Python\n",
    "pd.set_option('display.notebook_repr_html', True)\n",
    "pd.set_option('display.max_columns', 6)\n",
    "pd.set_option('display.max_rows', 10)\n",
    "pd.set_option('display.width', 78)\n",
    "pd.set_option('precision', 3)"
   ]
  },
  {
   "cell_type": "code",
   "execution_count": 3,
   "metadata": {},
   "outputs": [],
   "source": [
    "# Función para descargar precios de cierre ajustados:\n",
    "def get_adj_closes(tickers, start_date=None, end_date=None):\n",
    "    # Fecha inicio por defecto (start_date='2010-01-01') y fecha fin por defecto (end_date=today)\n",
    "    # Descargamos DataFrame con todos los datos\n",
    "    closes = web.DataReader(name=tickers, data_source='yahoo', start=start_date, end=end_date)\n",
    "    # Solo necesitamos los precios ajustados en el cierre\n",
    "    closes = closes['Adj Close']\n",
    "    # Se ordenan los índices de manera ascendente\n",
    "    closes.sort_index(inplace=True)\n",
    "    return closes\n",
    "\n",
    "####### Calculation of log-returns\n",
    "def calc_daily_ret(closes):\n",
    "    return np.log(closes/closes.shift(1)).dropna()"
   ]
  },
  {
   "cell_type": "code",
   "execution_count": 4,
   "metadata": {},
   "outputs": [
    {
     "data": {
      "text/plain": [
       "Date\n",
       "2017-01-03     58.538\n",
       "2017-01-04     58.276\n",
       "2017-01-05     58.276\n",
       "2017-01-06     58.782\n",
       "2017-01-09     58.595\n",
       "               ...   \n",
       "2021-04-29    252.510\n",
       "2021-04-30    252.180\n",
       "2021-05-03    251.860\n",
       "2021-05-04    247.790\n",
       "2021-05-05    246.470\n",
       "Name: MSFT, Length: 1092, dtype: float64"
      ]
     },
     "execution_count": 4,
     "metadata": {},
     "output_type": "execute_result"
    }
   ],
   "source": [
    "closes = get_adj_closes(['MSFT'], '2017-01-01')\n",
    "closes_msft = closes.loc[:,'MSFT']\n",
    "closes_msft"
   ]
  },
  {
   "cell_type": "code",
   "execution_count": 5,
   "metadata": {},
   "outputs": [
    {
     "data": {
      "image/png": "[encoded data removed]",
      "text/plain": [
       "<Figure size 576x432 with 1 Axes>"
      ]
     },
     "metadata": {
      "needs_background": "light"
     },
     "output_type": "display_data"
    }
   ],
   "source": [
    "closes_msft.plot(figsize=(8,6));"
   ]
  },
  {
   "cell_type": "code",
   "execution_count": 6,
   "metadata": {},
   "outputs": [
    {
     "data": {
      "text/plain": [
       "246.47000122070312"
      ]
     },
     "execution_count": 6,
     "metadata": {},
     "output_type": "execute_result"
    }
   ],
   "source": [
    "closes_msft[-1]"
   ]
  },
  {
   "cell_type": "markdown",
   "metadata": {},
   "source": [
    "## Calculamos rendimientos"
   ]
  },
  {
   "cell_type": "code",
   "execution_count": 7,
   "metadata": {},
   "outputs": [
    {
     "data": {
      "text/plain": [
       "Date\n",
       "2017-01-04   -4.484e-03\n",
       "2017-01-05    0.000e+00\n",
       "2017-01-06    8.630e-03\n",
       "2017-01-09   -3.188e-03\n",
       "2017-01-10   -3.194e-04\n",
       "                ...    \n",
       "2021-04-29   -8.086e-03\n",
       "2021-04-30   -1.308e-03\n",
       "2021-05-03   -1.270e-03\n",
       "2021-05-04   -1.629e-02\n",
       "2021-05-05   -5.341e-03\n",
       "Name: MSFT, Length: 1091, dtype: float64"
      ]
     },
     "execution_count": 7,
     "metadata": {},
     "output_type": "execute_result"
    }
   ],
   "source": [
    "ret_msft = calc_daily_ret(closes_msft)\n",
    "ret_msft"
   ]
  },
  {
   "cell_type": "markdown",
   "metadata": {},
   "source": [
    "## Descargamos datos de opciones para poder valuarlos\n"
   ]
  },
  {
   "cell_type": "markdown",
   "metadata": {},
   "source": [
    "Descargamos datos de opciones"
   ]
  },
  {
   "cell_type": "code",
   "execution_count": 8,
   "metadata": {
    "scrolled": false
   },
   "outputs": [
    {
     "data": {
      "text/html": [
       "<div>\n",
       "<style scoped>\n",
       "    .dataframe tbody tr th:only-of-type {\n",
       "        vertical-align: middle;\n",
       "    }\n",
       "\n",
       "    .dataframe tbody tr th {\n",
       "        vertical-align: top;\n",
       "    }\n",
       "\n",
       "    .dataframe thead th {\n",
       "        text-align: right;\n",
       "    }\n",
       "</style>\n",
       "<table border=\"1\" class=\"dataframe\">\n",
       "  <thead>\n",
       "    <tr style=\"text-align: right;\">\n",
       "      <th></th>\n",
       "      <th>Strike</th>\n",
       "      <th>Type</th>\n",
       "      <th>Symbol</th>\n",
       "      <th>...</th>\n",
       "      <th>Quote_Time</th>\n",
       "      <th>Last_Trade_Date</th>\n",
       "      <th>JSON</th>\n",
       "    </tr>\n",
       "    <tr>\n",
       "      <th>Expiry</th>\n",
       "      <th></th>\n",
       "      <th></th>\n",
       "      <th></th>\n",
       "      <th></th>\n",
       "      <th></th>\n",
       "      <th></th>\n",
       "      <th></th>\n",
       "    </tr>\n",
       "  </thead>\n",
       "  <tbody>\n",
       "    <tr>\n",
       "      <td>2021-05-07</td>\n",
       "      <td>212.5</td>\n",
       "      <td>put</td>\n",
       "      <td>MSFT210507P00212500</td>\n",
       "      <td>...</td>\n",
       "      <td>2021-05-05 23:59:51</td>\n",
       "      <td>2021-05-05 16:18:42</td>\n",
       "      <td>{'contractSymbol': 'MSFT210507P00212500', 'str...</td>\n",
       "    </tr>\n",
       "    <tr>\n",
       "      <td>2021-05-07</td>\n",
       "      <td>310.0</td>\n",
       "      <td>call</td>\n",
       "      <td>MSFT210507C00310000</td>\n",
       "      <td>...</td>\n",
       "      <td>2021-05-05 23:59:51</td>\n",
       "      <td>2021-05-03 18:19:38</td>\n",
       "      <td>{'contractSymbol': 'MSFT210507C00310000', 'str...</td>\n",
       "    </tr>\n",
       "    <tr>\n",
       "      <td>2021-05-07</td>\n",
       "      <td>310.0</td>\n",
       "      <td>put</td>\n",
       "      <td>MSFT210507P00310000</td>\n",
       "      <td>...</td>\n",
       "      <td>2021-05-05 23:59:51</td>\n",
       "      <td>2021-05-04 18:22:27</td>\n",
       "      <td>{'contractSymbol': 'MSFT210507P00310000', 'str...</td>\n",
       "    </tr>\n",
       "    <tr>\n",
       "      <td>2021-05-07</td>\n",
       "      <td>235.0</td>\n",
       "      <td>call</td>\n",
       "      <td>MSFT210507C00235000</td>\n",
       "      <td>...</td>\n",
       "      <td>2021-05-05 23:59:51</td>\n",
       "      <td>2021-05-05 19:21:09</td>\n",
       "      <td>{'contractSymbol': 'MSFT210507C00235000', 'str...</td>\n",
       "    </tr>\n",
       "    <tr>\n",
       "      <td>2021-05-07</td>\n",
       "      <td>235.0</td>\n",
       "      <td>put</td>\n",
       "      <td>MSFT210507P00235000</td>\n",
       "      <td>...</td>\n",
       "      <td>2021-05-05 23:59:51</td>\n",
       "      <td>2021-05-05 19:41:51</td>\n",
       "      <td>{'contractSymbol': 'MSFT210507P00235000', 'str...</td>\n",
       "    </tr>\n",
       "    <tr>\n",
       "      <td>...</td>\n",
       "      <td>...</td>\n",
       "      <td>...</td>\n",
       "      <td>...</td>\n",
       "      <td>...</td>\n",
       "      <td>...</td>\n",
       "      <td>...</td>\n",
       "      <td>...</td>\n",
       "    </tr>\n",
       "    <tr>\n",
       "      <td>2023-06-16</td>\n",
       "      <td>120.0</td>\n",
       "      <td>put</td>\n",
       "      <td>MSFT230616P00120000</td>\n",
       "      <td>...</td>\n",
       "      <td>2021-05-05 23:59:51</td>\n",
       "      <td>2021-04-21 14:36:50</td>\n",
       "      <td>{'contractSymbol': 'MSFT230616P00120000', 'str...</td>\n",
       "    </tr>\n",
       "    <tr>\n",
       "      <td>2023-06-16</td>\n",
       "      <td>295.0</td>\n",
       "      <td>call</td>\n",
       "      <td>MSFT230616C00295000</td>\n",
       "      <td>...</td>\n",
       "      <td>2021-05-05 23:59:51</td>\n",
       "      <td>2021-05-05 17:11:28</td>\n",
       "      <td>{'contractSymbol': 'MSFT230616C00295000', 'str...</td>\n",
       "    </tr>\n",
       "    <tr>\n",
       "      <td>2023-06-16</td>\n",
       "      <td>295.0</td>\n",
       "      <td>put</td>\n",
       "      <td>MSFT230616P00295000</td>\n",
       "      <td>...</td>\n",
       "      <td>2021-05-05 23:59:51</td>\n",
       "      <td>2021-05-03 13:39:26</td>\n",
       "      <td>{'contractSymbol': 'MSFT230616P00295000', 'str...</td>\n",
       "    </tr>\n",
       "    <tr>\n",
       "      <td>2023-06-16</td>\n",
       "      <td>300.0</td>\n",
       "      <td>call</td>\n",
       "      <td>MSFT230616C00300000</td>\n",
       "      <td>...</td>\n",
       "      <td>2021-05-05 23:59:51</td>\n",
       "      <td>2021-05-05 19:50:20</td>\n",
       "      <td>{'contractSymbol': 'MSFT230616C00300000', 'str...</td>\n",
       "    </tr>\n",
       "    <tr>\n",
       "      <td>2023-06-16</td>\n",
       "      <td>390.0</td>\n",
       "      <td>put</td>\n",
       "      <td>MSFT230616P00390000</td>\n",
       "      <td>...</td>\n",
       "      <td>2021-05-05 23:59:51</td>\n",
       "      <td>2021-04-30 17:09:46</td>\n",
       "      <td>{'contractSymbol': 'MSFT230616P00390000', 'str...</td>\n",
       "    </tr>\n",
       "  </tbody>\n",
       "</table>\n",
       "<p>1851 rows × 18 columns</p>\n",
       "</div>"
      ],
      "text/plain": [
       "            Strike  Type               Symbol  ...          Quote_Time  \\\n",
       "Expiry                                         ...                       \n",
       "2021-05-07   212.5   put  MSFT210507P00212500  ... 2021-05-05 23:59:51   \n",
       "2021-05-07   310.0  call  MSFT210507C00310000  ... 2021-05-05 23:59:51   \n",
       "2021-05-07   310.0   put  MSFT210507P00310000  ... 2021-05-05 23:59:51   \n",
       "2021-05-07   235.0  call  MSFT210507C00235000  ... 2021-05-05 23:59:51   \n",
       "2021-05-07   235.0   put  MSFT210507P00235000  ... 2021-05-05 23:59:51   \n",
       "...            ...   ...                  ...  ...                 ...   \n",
       "2023-06-16   120.0   put  MSFT230616P00120000  ... 2021-05-05 23:59:51   \n",
       "2023-06-16   295.0  call  MSFT230616C00295000  ... 2021-05-05 23:59:51   \n",
       "2023-06-16   295.0   put  MSFT230616P00295000  ... 2021-05-05 23:59:51   \n",
       "2023-06-16   300.0  call  MSFT230616C00300000  ... 2021-05-05 23:59:51   \n",
       "2023-06-16   390.0   put  MSFT230616P00390000  ... 2021-05-05 23:59:51   \n",
       "\n",
       "               Last_Trade_Date  \\\n",
       "Expiry                           \n",
       "2021-05-07 2021-05-05 16:18:42   \n",
       "2021-05-07 2021-05-03 18:19:38   \n",
       "2021-05-07 2021-05-04 18:22:27   \n",
       "2021-05-07 2021-05-05 19:21:09   \n",
       "2021-05-07 2021-05-05 19:41:51   \n",
       "...                        ...   \n",
       "2023-06-16 2021-04-21 14:36:50   \n",
       "2023-06-16 2021-05-05 17:11:28   \n",
       "2023-06-16 2021-05-03 13:39:26   \n",
       "2023-06-16 2021-05-05 19:50:20   \n",
       "2023-06-16 2021-04-30 17:09:46   \n",
       "\n",
       "                                                         JSON  \n",
       "Expiry                                                         \n",
       "2021-05-07  {'contractSymbol': 'MSFT210507P00212500', 'str...  \n",
       "2021-05-07  {'contractSymbol': 'MSFT210507C00310000', 'str...  \n",
       "2021-05-07  {'contractSymbol': 'MSFT210507P00310000', 'str...  \n",
       "2021-05-07  {'contractSymbol': 'MSFT210507C00235000', 'str...  \n",
       "2021-05-07  {'contractSymbol': 'MSFT210507P00235000', 'str...  \n",
       "...                                                       ...  \n",
       "2023-06-16  {'contractSymbol': 'MSFT230616P00120000', 'str...  \n",
       "2023-06-16  {'contractSymbol': 'MSFT230616C00295000', 'str...  \n",
       "2023-06-16  {'contractSymbol': 'MSFT230616P00295000', 'str...  \n",
       "2023-06-16  {'contractSymbol': 'MSFT230616C00300000', 'str...  \n",
       "2023-06-16  {'contractSymbol': 'MSFT230616P00390000', 'str...  \n",
       "\n",
       "[1851 rows x 18 columns]"
      ]
     },
     "execution_count": 8,
     "metadata": {},
     "output_type": "execute_result"
    }
   ],
   "source": [
    "pd.set_option('display.max_rows', 10)\n",
    "\n",
    "msft = web.YahooOptions('MSFT')\n",
    "msft_opt = msft.get_all_data().reset_index()\n",
    "msft_opt.set_index('Expiry').sort_index()#.head(1000)"
   ]
  },
  {
   "cell_type": "markdown",
   "metadata": {},
   "source": [
    "Asumiendo que queremos la opcion para el 17 de Septiembre de 2021:"
   ]
  },
  {
   "cell_type": "code",
   "execution_count": 9,
   "metadata": {},
   "outputs": [
    {
     "data": {
      "image/png": "[encoded data removed]",
      "text/plain": [
       "<Figure size 432x288 with 1 Axes>"
      ]
     },
     "metadata": {
      "needs_background": "light"
     },
     "output_type": "display_data"
    }
   ],
   "source": [
    "strike_call_msft = msft_opt['Strike'][(msft_opt['Expiry'] == '2021-09-17') & (msft_opt['Type'] == 'call')]\n",
    "option_call_msft = msft_opt['IV'][(msft_opt['Expiry'] == '2021-09-17') & (msft_opt['Type'] == 'call')]\n",
    "strike_put_msft = msft_opt['Strike'][(msft_opt['Expiry'] == '2021-09-17') & (msft_opt['Type'] == 'put')]\n",
    "option_put_msft = msft_opt['IV'][(msft_opt['Expiry'] == '2021-09-17') & (msft_opt['Type'] == 'put')]\n",
    "\n",
    "\n",
    "plt.scatter(strike_call_msft, option_call_msft, alpha = 0.5);\n",
    "plt.scatter(strike_put_msft, option_put_msft, alpha = 0.5);"
   ]
  },
  {
   "cell_type": "markdown",
   "metadata": {},
   "source": [
    "Debido a que son bastante similares la mayoría de los precios de opciones para esa fecha, tomaremos 280 como el valor de strike (K). "
   ]
  },
  {
   "cell_type": "code",
   "execution_count": 10,
   "metadata": {},
   "outputs": [
    {
     "data": {
      "text/html": [
       "<div>\n",
       "<style scoped>\n",
       "    .dataframe tbody tr th:only-of-type {\n",
       "        vertical-align: middle;\n",
       "    }\n",
       "\n",
       "    .dataframe tbody tr th {\n",
       "        vertical-align: top;\n",
       "    }\n",
       "\n",
       "    .dataframe thead th {\n",
       "        text-align: right;\n",
       "    }\n",
       "</style>\n",
       "<table border=\"1\" class=\"dataframe\">\n",
       "  <thead>\n",
       "    <tr style=\"text-align: right;\">\n",
       "      <th></th>\n",
       "      <th>Strike</th>\n",
       "      <th>Expiry</th>\n",
       "      <th>Type</th>\n",
       "      <th>...</th>\n",
       "      <th>Quote_Time</th>\n",
       "      <th>Last_Trade_Date</th>\n",
       "      <th>JSON</th>\n",
       "    </tr>\n",
       "  </thead>\n",
       "  <tbody>\n",
       "    <tr>\n",
       "      <td>1305</td>\n",
       "      <td>280.0</td>\n",
       "      <td>2021-09-17</td>\n",
       "      <td>call</td>\n",
       "      <td>...</td>\n",
       "      <td>2021-05-05 23:59:51</td>\n",
       "      <td>2021-05-05 18:36:29</td>\n",
       "      <td>{'contractSymbol': 'MSFT210917C00280000', 'str...</td>\n",
       "    </tr>\n",
       "  </tbody>\n",
       "</table>\n",
       "<p>1 rows × 19 columns</p>\n",
       "</div>"
      ],
      "text/plain": [
       "      Strike     Expiry  Type  ...          Quote_Time     Last_Trade_Date  \\\n",
       "1305   280.0 2021-09-17  call  ... 2021-05-05 23:59:51 2021-05-05 18:36:29   \n",
       "\n",
       "                                                   JSON  \n",
       "1305  {'contractSymbol': 'MSFT210917C00280000', 'str...  \n",
       "\n",
       "[1 rows x 19 columns]"
      ]
     },
     "execution_count": 10,
     "metadata": {},
     "output_type": "execute_result"
    }
   ],
   "source": [
    "opt_deseada = msft_opt.loc[(msft_opt.Type=='call') & (msft_opt.Strike==280) & (msft_opt.Expiry=='2021-09-17')]\n",
    "opt_deseada"
   ]
  },
  {
   "cell_type": "code",
   "execution_count": 11,
   "metadata": {
    "scrolled": false
   },
   "outputs": [
    {
     "data": {
      "text/plain": [
       "Strike                                                            280\n",
       "Expiry                                            2021-09-17 00:00:00\n",
       "Type                                                             call\n",
       "Symbol                                            MSFT210917C00280000\n",
       "Last                                                             3.25\n",
       "                                          ...                        \n",
       "Underlying                                                       MSFT\n",
       "Underlying_Price                                                  246\n",
       "Quote_Time                                        2021-05-05 23:59:51\n",
       "Last_Trade_Date                                   2021-05-05 18:36:29\n",
       "JSON                {'contractSymbol': 'MSFT210917C00280000', 'str...\n",
       "Name: 1305, Length: 19, dtype: object"
      ]
     },
     "execution_count": 11,
     "metadata": {},
     "output_type": "execute_result"
    }
   ],
   "source": [
    "opt_valuar = opt_deseada.loc[list(opt_deseada.index)[0]]\n",
    "opt_valuar"
   ]
  },
  {
   "cell_type": "markdown",
   "metadata": {},
   "source": [
    "Información de la opción"
   ]
  },
  {
   "cell_type": "code",
   "execution_count": 12,
   "metadata": {
    "scrolled": true
   },
   "outputs": [
    {
     "data": {
      "text/plain": [
       "{'contractSymbol': 'MSFT210917C00280000',\n",
       " 'strike': 280.0,\n",
       " 'currency': 'USD',\n",
       " 'lastPrice': 3.25,\n",
       " 'change': -0.45000005,\n",
       " 'percentChange': -12.162163,\n",
       " 'volume': 23,\n",
       " 'openInterest': 9330,\n",
       " 'bid': 3.1,\n",
       " 'ask': 3.3,\n",
       " 'contractSize': 'REGULAR',\n",
       " 'expiration': 1631836800,\n",
       " 'lastTradeDate': 1620239789,\n",
       " 'impliedVolatility': 0.22260298889160152,\n",
       " 'inTheMoney': False}"
      ]
     },
     "execution_count": 12,
     "metadata": {},
     "output_type": "execute_result"
    }
   ],
   "source": [
    "opt_valuar['JSON']"
   ]
  },
  {
   "cell_type": "markdown",
   "metadata": {},
   "source": [
    "# Simulación de precios"
   ]
  },
  {
   "cell_type": "markdown",
   "metadata": {},
   "source": [
    "### 1.1 Modelo normal de rendimientos"
   ]
  },
  {
   "cell_type": "code",
   "execution_count": 13,
   "metadata": {
    "scrolled": false
   },
   "outputs": [
    {
     "data": {
      "text/plain": [
       "(0.0013176508099668406, 0.017983725313409405, 1.6666666666666667e-05)"
      ]
     },
     "execution_count": 13,
     "metadata": {},
     "output_type": "execute_result"
    }
   ],
   "source": [
    "mu = ret_msft.mean()\n",
    "sigma = ret_msft.std()\n",
    "r = 0.006/360\n",
    "mu, sigma, r"
   ]
  },
  {
   "cell_type": "markdown",
   "metadata": {},
   "source": [
    "### Simulación de precios"
   ]
  },
  {
   "cell_type": "code",
   "execution_count": 14,
   "metadata": {},
   "outputs": [],
   "source": [
    "from datetime import date\n",
    "\n",
    "# Datos de la opción y del día de actual\n",
    "today = pd.Timestamp(date.today())\n",
    "expiry = opt_valuar.Expiry\n",
    "\n",
    "# Fechas desde el día de hoy hasta la fecha de cierre del contrato (considerando unicamente los días hábiles)\n",
    "dates = pd.date_range(start=today, end=expiry, freq='B')\n",
    "\n",
    "# Cantidad de escenarios a simular para el método de montecarlo\n",
    "ndays = len(dates)\n",
    "nscen = 10000\n",
    "\n",
    "K = opt_valuar.Strike\n",
    "S0 = closes_msft.iloc[-1]\n",
    "sim_ret = pd.DataFrame(sigma*np.random.randn(ndays,nscen)+mu,index=dates)\n",
    "sim_closes = S0*np.exp(sim_ret.cumsum())"
   ]
  },
  {
   "cell_type": "markdown",
   "metadata": {},
   "source": [
    "### Valuación de la opción baśandonos en la función de pago correspondiente (Europea)"
   ]
  },
  {
   "cell_type": "code",
   "execution_count": 15,
   "metadata": {},
   "outputs": [
    {
     "data": {
      "image/png": "[encoded data removed]",
      "text/plain": [
       "<Figure size 432x288 with 1 Axes>"
      ]
     },
     "metadata": {
      "needs_background": "light"
     },
     "output_type": "display_data"
    }
   ],
   "source": [
    "strike = K\n",
    "call=pd.DataFrame({'Prima':np.exp(-r*ndays)*np.fmax(sim_closes - strike, 0).mean(axis=1)}, index=dates)\n",
    "call.plot();"
   ]
  },
  {
   "cell_type": "code",
   "execution_count": 16,
   "metadata": {},
   "outputs": [
    {
     "data": {
      "text/plain": [
       "Prima    23.521\n",
       "Name: 2021-09-17 00:00:00, dtype: float64"
      ]
     },
     "execution_count": 16,
     "metadata": {},
     "output_type": "execute_result"
    }
   ],
   "source": [
    "call.iloc[-1]"
   ]
  },
  {
   "cell_type": "markdown",
   "metadata": {},
   "source": [
    "### Intervarlos de confianza"
   ]
  },
  {
   "cell_type": "code",
   "execution_count": 17,
   "metadata": {},
   "outputs": [
    {
     "name": "stdout",
     "output_type": "stream",
     "text": [
      "(22.49881615925231, 24.543825188057195)\n"
     ]
    }
   ],
   "source": [
    "confianza = 0.95\n",
    "sigma_est = sim_closes.iloc[-1].sem()\n",
    "mean_est = call.iloc[-1].Prima\n",
    "# i1 = st.t.interval(confianza,nscen-1, loc=mean_est, scale=sigma_est)\n",
    "i2 = st.norm.interval(confianza, loc=mean_est, scale=sigma_est)\n",
    "print(i2)"
   ]
  },
  {
   "cell_type": "code",
   "execution_count": 18,
   "metadata": {},
   "outputs": [
    {
     "data": {
      "text/plain": [
       "{'contractSymbol': 'MSFT210917C00280000',\n",
       " 'strike': 280.0,\n",
       " 'currency': 'USD',\n",
       " 'lastPrice': 3.25,\n",
       " 'change': -0.45000005,\n",
       " 'percentChange': -12.162163,\n",
       " 'volume': 23,\n",
       " 'openInterest': 9330,\n",
       " 'bid': 3.1,\n",
       " 'ask': 3.3,\n",
       " 'contractSize': 'REGULAR',\n",
       " 'expiration': 1631836800,\n",
       " 'lastTradeDate': 1620239789,\n",
       " 'impliedVolatility': 0.22260298889160152,\n",
       " 'inTheMoney': False}"
      ]
     },
     "execution_count": 18,
     "metadata": {},
     "output_type": "execute_result"
    }
   ],
   "source": [
    "opt_valuar['JSON']"
   ]
  },
  {
   "cell_type": "markdown",
   "metadata": {},
   "source": [
    "### 1.2 Histograma de rendimientos"
   ]
  },
  {
   "cell_type": "code",
   "execution_count": 19,
   "metadata": {},
   "outputs": [],
   "source": [
    "# Centro mis datos en mi tasa libre de riesgo\n",
    "freq, values = np.histogram(ret_msft, bins=10000)\n",
    "# freq = freq.astype('float32')\n",
    "prob = freq/np.sum(freq)"
   ]
  },
  {
   "cell_type": "code",
   "execution_count": 20,
   "metadata": {},
   "outputs": [],
   "source": [
    "# Datos de la opción y del día de actual\n",
    "today = pd.Timestamp(date.today())\n",
    "expiry = opt_valuar.Expiry\n",
    "\n",
    "# Fechas desde el día de hoy hasta la fecha de cierre del contrato (considerando unicamente los días hábiles)\n",
    "dates = pd.date_range(start=today, end=expiry, freq='B')\n",
    "\n",
    "# Cantidad de escenarios a simular para el método de montecarlo\n",
    "ndays = len(dates)\n",
    "nscen = 10000\n",
    "\n",
    "K = opt_valuar.Strike\n",
    "S0 = closes_msft.iloc[-1]\n",
    "\n",
    "ret = np.random.choice(values[1:], (ndays,nscen), p=prob)\n",
    "sim_ret_hist = pd.DataFrame(ret, index=dates)\n",
    "sim_closes_hist = S0*np.exp(sim_ret_hist.cumsum())"
   ]
  },
  {
   "cell_type": "code",
   "execution_count": 21,
   "metadata": {},
   "outputs": [
    {
     "data": {
      "image/png": "[encoded data removed]",
      "text/plain": [
       "<Figure size 432x288 with 1 Axes>"
      ]
     },
     "metadata": {
      "needs_background": "light"
     },
     "output_type": "display_data"
    }
   ],
   "source": [
    "sim_closes_hist.iloc[-1,:].hist(bins=25);"
   ]
  },
  {
   "cell_type": "code",
   "execution_count": 22,
   "metadata": {},
   "outputs": [
    {
     "data": {
      "image/png": "[encoded data removed]",
      "text/plain": [
       "<Figure size 432x288 with 1 Axes>"
      ]
     },
     "metadata": {
      "needs_background": "light"
     },
     "output_type": "display_data"
    }
   ],
   "source": [
    "strike = pd.DataFrame(K*np.ones([ndays,nscen]),index=dates)\n",
    "call_hist=pd.DataFrame({'Prima':np.exp(-r*ndays)*np.fmax(sim_closes_hist-strike,np.zeros([ndays,nscen])).T.mean()},index=dates)\n",
    "call_hist.plot();"
   ]
  },
  {
   "cell_type": "code",
   "execution_count": 23,
   "metadata": {},
   "outputs": [
    {
     "data": {
      "text/plain": [
       "Prima    23.064\n",
       "Name: 2021-09-17 00:00:00, dtype: float64"
      ]
     },
     "execution_count": 23,
     "metadata": {},
     "output_type": "execute_result"
    }
   ],
   "source": [
    "call_hist.iloc[-1]"
   ]
  },
  {
   "cell_type": "code",
   "execution_count": 24,
   "metadata": {},
   "outputs": [
    {
     "name": "stdout",
     "output_type": "stream",
     "text": [
      "(22.052934232981553, 24.07583367356224)\n"
     ]
    }
   ],
   "source": [
    "confianza = 0.95\n",
    "sigma_est = sim_closes_hist.iloc[-1].sem()\n",
    "mean_est = call_hist.iloc[-1].Prima\n",
    "# i1 = st.t.interval(confianza,nscen-1, loc=mean_est, scale=sigma_est)\n",
    "i2 = st.norm.interval(confianza, loc=mean_est, scale=sigma_est)\n",
    "print(i2)"
   ]
  },
  {
   "cell_type": "markdown",
   "metadata": {},
   "source": [
    "Notemos que el valor real de la opción que estamos valuando se encuentra muy cerca del intervalo de confianza, por lo tanto los resultado obtenidos son muy confiables.\n",
    "El valor de la opción es:"
   ]
  },
  {
   "cell_type": "code",
   "execution_count": 25,
   "metadata": {},
   "outputs": [
    {
     "data": {
      "text/plain": [
       "3.25"
      ]
     },
     "execution_count": 25,
     "metadata": {},
     "output_type": "execute_result"
    }
   ],
   "source": [
    "opt_valuar['JSON']['lastPrice']"
   ]
  },
  {
   "cell_type": "markdown",
   "metadata": {},
   "source": [
    "## 3. Valuación de una opción up and in"
   ]
  },
  {
   "cell_type": "markdown",
   "metadata": {},
   "source": [
    "### 3.1 Modelo normal de rendimientos"
   ]
  },
  {
   "cell_type": "code",
   "execution_count": 26,
   "metadata": {},
   "outputs": [
    {
     "data": {
      "text/plain": [
       "(0.0013176508099668406, 0.017983725313409405, 1.6666666666666667e-05)"
      ]
     },
     "execution_count": 26,
     "metadata": {},
     "output_type": "execute_result"
    }
   ],
   "source": [
    "mu = ret_msft.mean()\n",
    "sigma = ret_msft.std()\n",
    "r = 0.006/360\n",
    "mu, sigma, r"
   ]
  },
  {
   "cell_type": "markdown",
   "metadata": {},
   "source": [
    "## Valuación opción call up-and-in"
   ]
  },
  {
   "cell_type": "code",
   "execution_count": 27,
   "metadata": {},
   "outputs": [
    {
     "data": {
      "text/plain": [
       "(280.0, 246.33)"
      ]
     },
     "execution_count": 27,
     "metadata": {},
     "output_type": "execute_result"
    }
   ],
   "source": [
    "K = opt_valuar.Strike\n",
    "S0 = opt_valuar.Underlying_Price\n",
    "K, S0"
   ]
  },
  {
   "cell_type": "code",
   "execution_count": 28,
   "metadata": {},
   "outputs": [],
   "source": [
    "# Definir barrera\n",
    "\n",
    "def opciones_barrera(s, k, mu, sigma, expires, bu = 0, bd = 0, n_sim = 10000):\n",
    "    \n",
    "    today = pd.Timestamp(date.today())\n",
    "    dates = pd.date_range(start = today, end = expiry, freq='B')\n",
    "\n",
    "    ndays = len(dates)\n",
    "\n",
    "    sim_ret = pd.DataFrame(sigma*np.random.randn(ndays,n_sim)+mu,index=dates)\n",
    "    sim_closes = S0*np.exp(sim_ret.cumsum())\n",
    "    \n",
    "# 'CALL'- down-and-out\n",
    "# 'PUT'- up-and-out \n",
    "\n",
    "    # Calcular la prima de una opción Europea\n",
    "    call = pd.DataFrame({'Call':np.exp(-r*ndays)*np.fmax(sim_closes - k, 0)\n",
    "                         .mean(axis=1)},index=dates)\n",
    "    put = pd.DataFrame({'Put':np.exp(-r*ndays)*np.fmax(k - sim_closes, 0)\n",
    "                     .mean(axis=1)},index=dates)\n",
    "    \n",
    "    # CALL OPTIONS\n",
    "    \n",
    "#     I = (sim_closes > bu).cumsum(axis=0) > 0\n",
    "#     callui = pd.DataFrame({'Call up-and-in':np.exp(-r*ndays)*(I * np.fmax(sim_closes - k, 0))\n",
    "#                            .mean(axis=1)},index=dates)\n",
    "\n",
    "#     I = (sim_closes > bu).cumsum(axis=0) == 0\n",
    "#     calluo = pd.DataFrame({'Call up-and-out':np.exp(-r*ndays)*(I * np.fmax(sim_closes - k, 0))\n",
    "#                        .mean(axis=1)},index=dates)\n",
    "    \n",
    "#     I = (sim_closes < bd).cumsum(axis=0) > 0\n",
    "#     calldi = pd.DataFrame({'Call down-and-in':np.exp(-r*ndays)*(I * np.fmax(sim_closes - k, 0))\n",
    "#                        .mean(axis=1)},index=dates)    \n",
    "    \n",
    "    I = (sim_closes < bd).cumsum(axis=0) == 0\n",
    "    calldo = pd.DataFrame({'Call down-and-out':np.exp(-r*ndays)*(I * np.fmax(sim_closes - k, 0))\n",
    "                       .mean(axis=1)},index=dates)\n",
    "    \n",
    "    \n",
    "       # PUT OPTIONS \n",
    "        \n",
    "#     I = (sim_closes > bu).cumsum(axis=0) > 0\n",
    "#     putui = pd.DataFrame({'Put up-and-in':np.exp(-r*ndays)*(I * np.fmax(k - sim_closes, 0))\n",
    "#                            .mean(axis=1)},index=dates)\n",
    "\n",
    "    I = (sim_closes > bu).cumsum(axis=0) == 0\n",
    "    putuo = pd.DataFrame({'Put up-and-out':np.exp(-r*ndays)*(I * np.fmax(k - sim_closes, 0))\n",
    "                       .mean(axis=1)},index=dates)\n",
    "    \n",
    "#     I = (sim_closes < bd).cumsum(axis=0) > 0\n",
    "#     putdi = pd.DataFrame({'Put down-and-in':np.exp(-r*ndays)*(I * np.fmax(k - sim_closes, 0))\n",
    "#                        .mean(axis=1)},index=dates)    \n",
    "    \n",
    "#     I = (sim_closes < bd).cumsum(axis=0) == 0\n",
    "#     putdo = pd.DataFrame({'Put down-and-out':np.exp(-r*ndays)*(I * np.fmax(k - sim_closes, 0))\n",
    "#                        .mean(axis=1)},index=dates)\n",
    "      \n",
    "        \n",
    "    # Graficar el resultado de las dos primas previamente valuadas\n",
    "    ax = calldo.plot();\n",
    "    call.plot(ax=ax);\n",
    "    \n",
    "    ax = putuo.plot();\n",
    "    put.plot(ax=ax);"
   ]
  },
  {
   "cell_type": "code",
   "execution_count": 29,
   "metadata": {},
   "outputs": [
    {
     "data": {
      "image/png": "[encoded data removed]",
      "text/plain": [
       "<Figure size 432x288 with 1 Axes>"
      ]
     },
     "metadata": {
      "needs_background": "light"
     },
     "output_type": "display_data"
    },
    {
     "data": {
      "image/png": "[encoded data removed]",
      "text/plain": [
       "<Figure size 432x288 with 1 Axes>"
      ]
     },
     "metadata": {
      "needs_background": "light"
     },
     "output_type": "display_data"
    }
   ],
   "source": [
    "s = closes_msft.iloc[-1]\n",
    "k = opt_valuar.Strike\n",
    "mu = ret_msft.mean()\n",
    "sigma = ret_msft.std()\n",
    "expires = opt_valuar.Expiry\n",
    "bu = 260\n",
    "bd = 230\n",
    "opciones_barrera(s, k, mu, sigma, expires, bu=bu, bd=bd)"
   ]
  },
  {
   "cell_type": "markdown",
   "metadata": {},
   "source": [
    "En este primer ejemplo se puede apreciar que debido a que el strike price es menor al precio actual, en el caso del Call el precio de la prima considera el crecimiento, mientras que el caso del put tiene un valor intrínseco, haciendo la prima de este último mucho más alta. Como se puede observar en este ejercicio, adquirir un activo que se encuentra at the market es demasiado costoso y a largo plazo lo esperado es que baje de valor por la probabilidad de tocar la barrera de knock-out. "
   ]
  },
  {
   "cell_type": "code",
   "execution_count": 30,
   "metadata": {},
   "outputs": [
    {
     "data": {
      "image/png": "[encoded data removed]",
      "text/plain": [
       "<Figure size 432x288 with 1 Axes>"
      ]
     },
     "metadata": {
      "needs_background": "light"
     },
     "output_type": "display_data"
    },
    {
     "data": {
      "image/png": "[encoded data removed]",
      "text/plain": [
       "<Figure size 432x288 with 1 Axes>"
      ]
     },
     "metadata": {
      "needs_background": "light"
     },
     "output_type": "display_data"
    }
   ],
   "source": [
    "s = closes_msft.iloc[-1]\n",
    "k = 240\n",
    "mu = ret_msft.mean()\n",
    "sigma = ret_msft.std()\n",
    "expires = opt_valuar.Expiry\n",
    "bu = 260\n",
    "bd = 230\n",
    "opciones_barrera(s, k, mu, sigma, expires, bu=bu, bd=bd)"
   ]
  },
  {
   "cell_type": "markdown",
   "metadata": {},
   "source": [
    "Caso inverso en el segundo ejemplo, si cambiamos el strike price a 240 (menor que el precio actual) el Call tendría un valor intrínseco, por lo cual sería mucho más caro que uno out of the market. Y en este caso el put es considerablemente más accesible que el Call."
   ]
  },
  {
   "cell_type": "markdown",
   "metadata": {},
   "source": [
    "Un ejemplo para el primer caso en el que se necesita hacer uso de un Call y la opción barrera sería si se quiere comprar acciones de MSFT, pero se desea reducir el precio de la prima. De igual forma, el segundo escenario sería utilizado cuando se desea adquirir una opción para vender activos de la empresa al precio establecido, pero pagando una prima menor. "
   ]
  },
  {
   "cell_type": "markdown",
   "metadata": {},
   "source": [
    "## Respuesta Andrés"
   ]
  },
  {
   "cell_type": "code",
   "execution_count": 31,
   "metadata": {},
   "outputs": [
    {
     "data": {
      "text/plain": [
       "Date\n",
       "2017-01-03     58.538\n",
       "2017-01-04     58.276\n",
       "2017-01-05     58.276\n",
       "2017-01-06     58.782\n",
       "2017-01-09     58.595\n",
       "               ...   \n",
       "2021-04-29    252.510\n",
       "2021-04-30    252.180\n",
       "2021-05-03    251.860\n",
       "2021-05-04    247.790\n",
       "2021-05-05    246.470\n",
       "Name: MSFT, Length: 1092, dtype: float64"
      ]
     },
     "execution_count": 31,
     "metadata": {},
     "output_type": "execute_result"
    }
   ],
   "source": [
    "closes = get_adj_closes(['MSFT'], '2017-01-01')\n",
    "closes_msft = closes.loc[:,'MSFT']\n",
    "closes_msft"
   ]
  },
  {
   "cell_type": "code",
   "execution_count": 32,
   "metadata": {},
   "outputs": [
    {
     "data": {
      "image/png": "[encoded data removed]",
      "text/plain": [
       "<Figure size 576x432 with 1 Axes>"
      ]
     },
     "metadata": {
      "needs_background": "light"
     },
     "output_type": "display_data"
    }
   ],
   "source": [
    "closes_msft.plot(figsize=(8,6));"
   ]
  },
  {
   "cell_type": "code",
   "execution_count": 33,
   "metadata": {},
   "outputs": [
    {
     "data": {
      "text/plain": [
       "246.47000122070312"
      ]
     },
     "execution_count": 33,
     "metadata": {},
     "output_type": "execute_result"
    },
    {
     "data": {
      "image/png": "[encoded data removed]",
      "text/plain": [
       "<Figure size 576x432 with 1 Axes>"
      ]
     },
     "metadata": {
      "needs_background": "light"
     },
     "output_type": "display_data"
    }
   ],
   "source": [
    "ret_msft = calc_daily_ret(closes_msft)\n",
    "ret_msft.plot(figsize=(8,6))\n",
    "closes_msft[-1]"
   ]
  },
  {
   "cell_type": "code",
   "execution_count": 34,
   "metadata": {},
   "outputs": [
    {
     "data": {
      "text/html": [
       "<div>\n",
       "<style scoped>\n",
       "    .dataframe tbody tr th:only-of-type {\n",
       "        vertical-align: middle;\n",
       "    }\n",
       "\n",
       "    .dataframe tbody tr th {\n",
       "        vertical-align: top;\n",
       "    }\n",
       "\n",
       "    .dataframe thead th {\n",
       "        text-align: right;\n",
       "    }\n",
       "</style>\n",
       "<table border=\"1\" class=\"dataframe\">\n",
       "  <thead>\n",
       "    <tr style=\"text-align: right;\">\n",
       "      <th></th>\n",
       "      <th>Strike</th>\n",
       "      <th>Type</th>\n",
       "      <th>Symbol</th>\n",
       "      <th>...</th>\n",
       "      <th>Quote_Time</th>\n",
       "      <th>Last_Trade_Date</th>\n",
       "      <th>JSON</th>\n",
       "    </tr>\n",
       "    <tr>\n",
       "      <th>Expiry</th>\n",
       "      <th></th>\n",
       "      <th></th>\n",
       "      <th></th>\n",
       "      <th></th>\n",
       "      <th></th>\n",
       "      <th></th>\n",
       "      <th></th>\n",
       "    </tr>\n",
       "  </thead>\n",
       "  <tbody>\n",
       "    <tr>\n",
       "      <td>2021-05-07</td>\n",
       "      <td>212.5</td>\n",
       "      <td>put</td>\n",
       "      <td>MSFT210507P00212500</td>\n",
       "      <td>...</td>\n",
       "      <td>2021-05-05 23:59:51</td>\n",
       "      <td>2021-05-05 16:18:42</td>\n",
       "      <td>{'contractSymbol': 'MSFT210507P00212500', 'str...</td>\n",
       "    </tr>\n",
       "    <tr>\n",
       "      <td>2021-05-07</td>\n",
       "      <td>310.0</td>\n",
       "      <td>call</td>\n",
       "      <td>MSFT210507C00310000</td>\n",
       "      <td>...</td>\n",
       "      <td>2021-05-05 23:59:51</td>\n",
       "      <td>2021-05-03 18:19:38</td>\n",
       "      <td>{'contractSymbol': 'MSFT210507C00310000', 'str...</td>\n",
       "    </tr>\n",
       "    <tr>\n",
       "      <td>2021-05-07</td>\n",
       "      <td>310.0</td>\n",
       "      <td>put</td>\n",
       "      <td>MSFT210507P00310000</td>\n",
       "      <td>...</td>\n",
       "      <td>2021-05-05 23:59:51</td>\n",
       "      <td>2021-05-04 18:22:27</td>\n",
       "      <td>{'contractSymbol': 'MSFT210507P00310000', 'str...</td>\n",
       "    </tr>\n",
       "    <tr>\n",
       "      <td>2021-05-07</td>\n",
       "      <td>235.0</td>\n",
       "      <td>call</td>\n",
       "      <td>MSFT210507C00235000</td>\n",
       "      <td>...</td>\n",
       "      <td>2021-05-05 23:59:51</td>\n",
       "      <td>2021-05-05 19:21:09</td>\n",
       "      <td>{'contractSymbol': 'MSFT210507C00235000', 'str...</td>\n",
       "    </tr>\n",
       "    <tr>\n",
       "      <td>2021-05-07</td>\n",
       "      <td>235.0</td>\n",
       "      <td>put</td>\n",
       "      <td>MSFT210507P00235000</td>\n",
       "      <td>...</td>\n",
       "      <td>2021-05-05 23:59:51</td>\n",
       "      <td>2021-05-05 19:41:51</td>\n",
       "      <td>{'contractSymbol': 'MSFT210507P00235000', 'str...</td>\n",
       "    </tr>\n",
       "    <tr>\n",
       "      <td>...</td>\n",
       "      <td>...</td>\n",
       "      <td>...</td>\n",
       "      <td>...</td>\n",
       "      <td>...</td>\n",
       "      <td>...</td>\n",
       "      <td>...</td>\n",
       "      <td>...</td>\n",
       "    </tr>\n",
       "    <tr>\n",
       "      <td>2023-06-16</td>\n",
       "      <td>120.0</td>\n",
       "      <td>put</td>\n",
       "      <td>MSFT230616P00120000</td>\n",
       "      <td>...</td>\n",
       "      <td>2021-05-05 23:59:51</td>\n",
       "      <td>2021-04-21 14:36:50</td>\n",
       "      <td>{'contractSymbol': 'MSFT230616P00120000', 'str...</td>\n",
       "    </tr>\n",
       "    <tr>\n",
       "      <td>2023-06-16</td>\n",
       "      <td>295.0</td>\n",
       "      <td>call</td>\n",
       "      <td>MSFT230616C00295000</td>\n",
       "      <td>...</td>\n",
       "      <td>2021-05-05 23:59:51</td>\n",
       "      <td>2021-05-05 17:11:28</td>\n",
       "      <td>{'contractSymbol': 'MSFT230616C00295000', 'str...</td>\n",
       "    </tr>\n",
       "    <tr>\n",
       "      <td>2023-06-16</td>\n",
       "      <td>295.0</td>\n",
       "      <td>put</td>\n",
       "      <td>MSFT230616P00295000</td>\n",
       "      <td>...</td>\n",
       "      <td>2021-05-05 23:59:51</td>\n",
       "      <td>2021-05-03 13:39:26</td>\n",
       "      <td>{'contractSymbol': 'MSFT230616P00295000', 'str...</td>\n",
       "    </tr>\n",
       "    <tr>\n",
       "      <td>2023-06-16</td>\n",
       "      <td>300.0</td>\n",
       "      <td>call</td>\n",
       "      <td>MSFT230616C00300000</td>\n",
       "      <td>...</td>\n",
       "      <td>2021-05-05 23:59:51</td>\n",
       "      <td>2021-05-05 19:50:20</td>\n",
       "      <td>{'contractSymbol': 'MSFT230616C00300000', 'str...</td>\n",
       "    </tr>\n",
       "    <tr>\n",
       "      <td>2023-06-16</td>\n",
       "      <td>390.0</td>\n",
       "      <td>put</td>\n",
       "      <td>MSFT230616P00390000</td>\n",
       "      <td>...</td>\n",
       "      <td>2021-05-05 23:59:51</td>\n",
       "      <td>2021-04-30 17:09:46</td>\n",
       "      <td>{'contractSymbol': 'MSFT230616P00390000', 'str...</td>\n",
       "    </tr>\n",
       "  </tbody>\n",
       "</table>\n",
       "<p>1851 rows × 18 columns</p>\n",
       "</div>"
      ],
      "text/plain": [
       "            Strike  Type               Symbol  ...          Quote_Time  \\\n",
       "Expiry                                         ...                       \n",
       "2021-05-07   212.5   put  MSFT210507P00212500  ... 2021-05-05 23:59:51   \n",
       "2021-05-07   310.0  call  MSFT210507C00310000  ... 2021-05-05 23:59:51   \n",
       "2021-05-07   310.0   put  MSFT210507P00310000  ... 2021-05-05 23:59:51   \n",
       "2021-05-07   235.0  call  MSFT210507C00235000  ... 2021-05-05 23:59:51   \n",
       "2021-05-07   235.0   put  MSFT210507P00235000  ... 2021-05-05 23:59:51   \n",
       "...            ...   ...                  ...  ...                 ...   \n",
       "2023-06-16   120.0   put  MSFT230616P00120000  ... 2021-05-05 23:59:51   \n",
       "2023-06-16   295.0  call  MSFT230616C00295000  ... 2021-05-05 23:59:51   \n",
       "2023-06-16   295.0   put  MSFT230616P00295000  ... 2021-05-05 23:59:51   \n",
       "2023-06-16   300.0  call  MSFT230616C00300000  ... 2021-05-05 23:59:51   \n",
       "2023-06-16   390.0   put  MSFT230616P00390000  ... 2021-05-05 23:59:51   \n",
       "\n",
       "               Last_Trade_Date  \\\n",
       "Expiry                           \n",
       "2021-05-07 2021-05-05 16:18:42   \n",
       "2021-05-07 2021-05-03 18:19:38   \n",
       "2021-05-07 2021-05-04 18:22:27   \n",
       "2021-05-07 2021-05-05 19:21:09   \n",
       "2021-05-07 2021-05-05 19:41:51   \n",
       "...                        ...   \n",
       "2023-06-16 2021-04-21 14:36:50   \n",
       "2023-06-16 2021-05-05 17:11:28   \n",
       "2023-06-16 2021-05-03 13:39:26   \n",
       "2023-06-16 2021-05-05 19:50:20   \n",
       "2023-06-16 2021-04-30 17:09:46   \n",
       "\n",
       "                                                         JSON  \n",
       "Expiry                                                         \n",
       "2021-05-07  {'contractSymbol': 'MSFT210507P00212500', 'str...  \n",
       "2021-05-07  {'contractSymbol': 'MSFT210507C00310000', 'str...  \n",
       "2021-05-07  {'contractSymbol': 'MSFT210507P00310000', 'str...  \n",
       "2021-05-07  {'contractSymbol': 'MSFT210507C00235000', 'str...  \n",
       "2021-05-07  {'contractSymbol': 'MSFT210507P00235000', 'str...  \n",
       "...                                                       ...  \n",
       "2023-06-16  {'contractSymbol': 'MSFT230616P00120000', 'str...  \n",
       "2023-06-16  {'contractSymbol': 'MSFT230616C00295000', 'str...  \n",
       "2023-06-16  {'contractSymbol': 'MSFT230616P00295000', 'str...  \n",
       "2023-06-16  {'contractSymbol': 'MSFT230616C00300000', 'str...  \n",
       "2023-06-16  {'contractSymbol': 'MSFT230616P00390000', 'str...  \n",
       "\n",
       "[1851 rows x 18 columns]"
      ]
     },
     "execution_count": 34,
     "metadata": {},
     "output_type": "execute_result"
    }
   ],
   "source": [
    "pd.set_option('display.max_rows', 10)\n",
    "\n",
    "msft = web.YahooOptions('MSFT')\n",
    "msft_opt = msft.get_all_data().reset_index()\n",
    "msft_opt.set_index('Expiry').sort_index()#.head(1000)"
   ]
  },
  {
   "cell_type": "markdown",
   "metadata": {},
   "source": [
    "Esta tabla nos dice bastante pero para tener una una visualización más clara de com se presenta el strike price en los diferentes tipos de contrato tomando como día de \"Expiry\" el 17 de Septiembre."
   ]
  },
  {
   "cell_type": "code",
   "execution_count": 35,
   "metadata": {},
   "outputs": [
    {
     "data": {
      "image/png": "[encoded data removed]",
      "text/plain": [
       "<Figure size 432x288 with 1 Axes>"
      ]
     },
     "metadata": {
      "needs_background": "light"
     },
     "output_type": "display_data"
    }
   ],
   "source": [
    "strike_call_msft = msft_opt['Strike'][(msft_opt['Expiry'] == '2021-09-17') & (msft_opt['Type'] == 'call')]\n",
    "option_call_msft = msft_opt['IV'][(msft_opt['Expiry'] == '2021-09-17') & (msft_opt['Type'] == 'call')]\n",
    "strike_put_msft = msft_opt['Strike'][(msft_opt['Expiry'] == '2021-09-17') & (msft_opt['Type'] == 'put')]\n",
    "option_put_msft = msft_opt['IV'][(msft_opt['Expiry'] == '2021-09-17') & (msft_opt['Type'] == 'put')]\n",
    "\n",
    "\n",
    "plt.scatter(strike_call_msft, option_call_msft, alpha = 0.5);\n",
    "plt.scatter(strike_put_msft, option_put_msft, alpha = 0.5);"
   ]
  },
  {
   "cell_type": "markdown",
   "metadata": {},
   "source": [
    "Debido a que para esta estrategia se necesita un valor por encima del spot price, tomaremos 260 como el strike price de la opcion."
   ]
  },
  {
   "cell_type": "code",
   "execution_count": 36,
   "metadata": {},
   "outputs": [
    {
     "data": {
      "text/html": [
       "<div>\n",
       "<style scoped>\n",
       "    .dataframe tbody tr th:only-of-type {\n",
       "        vertical-align: middle;\n",
       "    }\n",
       "\n",
       "    .dataframe tbody tr th {\n",
       "        vertical-align: top;\n",
       "    }\n",
       "\n",
       "    .dataframe thead th {\n",
       "        text-align: right;\n",
       "    }\n",
       "</style>\n",
       "<table border=\"1\" class=\"dataframe\">\n",
       "  <thead>\n",
       "    <tr style=\"text-align: right;\">\n",
       "      <th></th>\n",
       "      <th>Strike</th>\n",
       "      <th>Expiry</th>\n",
       "      <th>Type</th>\n",
       "      <th>...</th>\n",
       "      <th>Quote_Time</th>\n",
       "      <th>Last_Trade_Date</th>\n",
       "      <th>JSON</th>\n",
       "    </tr>\n",
       "  </thead>\n",
       "  <tbody>\n",
       "    <tr>\n",
       "      <td>1120</td>\n",
       "      <td>260.0</td>\n",
       "      <td>2021-09-17</td>\n",
       "      <td>call</td>\n",
       "      <td>...</td>\n",
       "      <td>2021-05-05 23:59:51</td>\n",
       "      <td>2021-05-05 19:42:09</td>\n",
       "      <td>{'contractSymbol': 'MSFT210917C00260000', 'str...</td>\n",
       "    </tr>\n",
       "  </tbody>\n",
       "</table>\n",
       "<p>1 rows × 19 columns</p>\n",
       "</div>"
      ],
      "text/plain": [
       "      Strike     Expiry  Type  ...          Quote_Time     Last_Trade_Date  \\\n",
       "1120   260.0 2021-09-17  call  ... 2021-05-05 23:59:51 2021-05-05 19:42:09   \n",
       "\n",
       "                                                   JSON  \n",
       "1120  {'contractSymbol': 'MSFT210917C00260000', 'str...  \n",
       "\n",
       "[1 rows x 19 columns]"
      ]
     },
     "execution_count": 36,
     "metadata": {},
     "output_type": "execute_result"
    }
   ],
   "source": [
    "opt_deseada = msft_opt.loc[(msft_opt.Type=='call') & (msft_opt.Strike==260) & (msft_opt.Expiry=='2021-09-17')]\n",
    "opt_deseada"
   ]
  },
  {
   "cell_type": "code",
   "execution_count": 37,
   "metadata": {},
   "outputs": [
    {
     "data": {
      "text/plain": [
       "Strike                                                            260\n",
       "Expiry                                            2021-09-17 00:00:00\n",
       "Type                                                             call\n",
       "Symbol                                            MSFT210917C00260000\n",
       "Last                                                             8.07\n",
       "                                          ...                        \n",
       "Underlying                                                       MSFT\n",
       "Underlying_Price                                                  246\n",
       "Quote_Time                                        2021-05-05 23:59:51\n",
       "Last_Trade_Date                                   2021-05-05 19:42:09\n",
       "JSON                {'contractSymbol': 'MSFT210917C00260000', 'str...\n",
       "Name: 1120, Length: 19, dtype: object"
      ]
     },
     "execution_count": 37,
     "metadata": {},
     "output_type": "execute_result"
    }
   ],
   "source": [
    "opt_valuar = opt_deseada.loc[list(opt_deseada.index)[0]]\n",
    "opt_valuar"
   ]
  },
  {
   "cell_type": "code",
   "execution_count": 38,
   "metadata": {},
   "outputs": [
    {
     "data": {
      "text/plain": [
       "{'contractSymbol': 'MSFT210917C00260000',\n",
       " 'strike': 260.0,\n",
       " 'currency': 'USD',\n",
       " 'lastPrice': 8.07,\n",
       " 'change': -0.7300005,\n",
       " 'percentChange': -8.29546,\n",
       " 'volume': 87,\n",
       " 'openInterest': 7536,\n",
       " 'bid': 7.95,\n",
       " 'ask': 8.35,\n",
       " 'contractSize': 'REGULAR',\n",
       " 'expiration': 1631836800,\n",
       " 'lastTradeDate': 1620243729,\n",
       " 'impliedVolatility': 0.22956092712402343,\n",
       " 'inTheMoney': False}"
      ]
     },
     "execution_count": 38,
     "metadata": {},
     "output_type": "execute_result"
    }
   ],
   "source": [
    "opt_valuar['JSON']"
   ]
  },
  {
   "cell_type": "markdown",
   "metadata": {},
   "source": [
    "## Modelo normal de los rendimientos"
   ]
  },
  {
   "cell_type": "code",
   "execution_count": 39,
   "metadata": {},
   "outputs": [
    {
     "data": {
      "text/plain": [
       "(0.0013176508099668406, 0.017983725313409405, 1.6666666666666665e-06)"
      ]
     },
     "execution_count": 39,
     "metadata": {},
     "output_type": "execute_result"
    }
   ],
   "source": [
    "mu = ret_msft.mean()\n",
    "sigma = ret_msft.std()\n",
    "r = 0.0006/360\n",
    "mu, sigma, r"
   ]
  },
  {
   "cell_type": "markdown",
   "metadata": {},
   "source": [
    "   ## Simulacion de precios"
   ]
  },
  {
   "cell_type": "code",
   "execution_count": 40,
   "metadata": {},
   "outputs": [],
   "source": [
    "# Centro mis datos en mi tasa libre de riesgo\n",
    "freq, values = np.histogram(ret_msft-mu+r, bins=10000)\n",
    "# freq = freq.astype('float32')\n",
    "prob = freq/np.sum(freq)"
   ]
  },
  {
   "cell_type": "code",
   "execution_count": 41,
   "metadata": {},
   "outputs": [],
   "source": [
    "from datetime import date\n",
    "# Datos de la opción y del día de actual\n",
    "today = pd.Timestamp(date.today())\n",
    "expiry = opt_valuar.Expiry\n",
    "\n",
    "# Fechas desde el día de hoy hasta la fecha de cierre del contrato (considerando unicamente los días hábiles)\n",
    "dates = pd.date_range(start=today, end=expiry, freq='B')\n",
    "\n",
    "# Cantidad de escenarios a simular para el método de montecarlo\n",
    "ndays = len(dates)\n",
    "nscen = 10000\n",
    "\n",
    "K = opt_valuar.Strike\n",
    "S0 = closes_msft.iloc[-1]\n",
    "sim_ret = pd.DataFrame(sigma*np.random.randn(ndays,nscen)+r,index=dates)\n",
    "sim_closes_hist = S0*np.exp(sim_ret.cumsum())"
   ]
  },
  {
   "cell_type": "code",
   "execution_count": 42,
   "metadata": {},
   "outputs": [
    {
     "data": {
      "image/png": "[encoded data removed]",
      "text/plain": [
       "<Figure size 432x288 with 1 Axes>"
      ]
     },
     "metadata": {
      "needs_background": "light"
     },
     "output_type": "display_data"
    }
   ],
   "source": [
    "strike = K\n",
    "call=pd.DataFrame({'Prima':np.exp(-r*ndays)*np.fmax(sim_closes_hist - strike, 0).mean(axis=1)}, index=dates)\n",
    "call.plot();"
   ]
  },
  {
   "cell_type": "code",
   "execution_count": 43,
   "metadata": {},
   "outputs": [
    {
     "data": {
      "text/plain": [
       "Prima    13.861\n",
       "Name: 2021-09-17 00:00:00, dtype: float64"
      ]
     },
     "execution_count": 43,
     "metadata": {},
     "output_type": "execute_result"
    }
   ],
   "source": [
    "call.iloc[-1]"
   ]
  },
  {
   "cell_type": "code",
   "execution_count": 44,
   "metadata": {},
   "outputs": [
    {
     "name": "stdout",
     "output_type": "stream",
     "text": [
      "(12.98084897550736, 14.741911617200167)\n"
     ]
    }
   ],
   "source": [
    "confianza = 0.95\n",
    "sigma_est = sim_closes_hist.iloc[-1].sem()\n",
    "mean_est = call.iloc[-1].Prima\n",
    "i2 = st.norm.interval(confianza, loc=mean_est, scale=sigma_est)\n",
    "print(i2)"
   ]
  },
  {
   "cell_type": "markdown",
   "metadata": {},
   "source": [
    "## Metodo del histograma"
   ]
  },
  {
   "cell_type": "code",
   "execution_count": 45,
   "metadata": {},
   "outputs": [
    {
     "data": {
      "text/plain": [
       "246.47000122070312"
      ]
     },
     "execution_count": 45,
     "metadata": {},
     "output_type": "execute_result"
    },
    {
     "data": {
      "image/png": "[encoded data removed]",
      "text/plain": [
       "<Figure size 432x288 with 1 Axes>"
      ]
     },
     "metadata": {
      "needs_background": "light"
     },
     "output_type": "display_data"
    }
   ],
   "source": [
    "# Centro mis datos en mi tasa libre de riesgo\n",
    "freq, values = np.histogram(ret_msft-mu+r, bins=10000)\n",
    "prob = freq/np.sum(freq)\n",
    "\n",
    "# Datos de la opción y del día de actual\n",
    "today = pd.Timestamp(date.today())\n",
    "expiry = opt_valuar.Expiry\n",
    "\n",
    "# Fechas desde el día de hoy hasta la fecha de cierre del contrato (considerando unicamente los días hábiles)\n",
    "dates = pd.date_range(start=today, end=expiry, freq='B')\n",
    "\n",
    "# Cantidad de escenarios a simular para el método de montecarlo\n",
    "ndays = len(dates)\n",
    "nscen = 10000\n",
    "\n",
    "K = opt_valuar.Strike\n",
    "S0 = closes_msft.iloc[-1]\n",
    "ret = np.random.choice(values[1:], (ndays,nscen), p=prob)\n",
    "sim_ret_hist = pd.DataFrame(ret, index=dates)\n",
    "sim_closes_hist = S0*np.exp(sim_ret_hist.cumsum())\n",
    "sim_closes_hist.iloc[-1,:].hist(bins=25);\n",
    "S0"
   ]
  },
  {
   "cell_type": "code",
   "execution_count": 46,
   "metadata": {},
   "outputs": [
    {
     "data": {
      "image/png": "[encoded data removed]",
      "text/plain": [
       "<Figure size 432x288 with 1 Axes>"
      ]
     },
     "metadata": {
      "needs_background": "light"
     },
     "output_type": "display_data"
    }
   ],
   "source": [
    "strike = pd.DataFrame(K*np.ones([ndays,nscen]),index=dates)\n",
    "call_hist=pd.DataFrame({'Prima':np.exp(-r*ndays)*np.fmax(sim_closes_hist-strike,np.zeros([ndays,nscen])).T.mean()},index=dates)\n",
    "call_hist.plot();"
   ]
  },
  {
   "cell_type": "code",
   "execution_count": 47,
   "metadata": {},
   "outputs": [
    {
     "data": {
      "text/plain": [
       "Prima    13.906\n",
       "Name: 2021-09-17 00:00:00, dtype: float64"
      ]
     },
     "execution_count": 47,
     "metadata": {},
     "output_type": "execute_result"
    }
   ],
   "source": [
    "call_hist.iloc[-1]"
   ]
  },
  {
   "cell_type": "code",
   "execution_count": 48,
   "metadata": {},
   "outputs": [
    {
     "name": "stdout",
     "output_type": "stream",
     "text": [
      "(13.030375941479265, 14.780924438670317)\n"
     ]
    }
   ],
   "source": [
    "confianza = 0.95\n",
    "sigma_est = sim_closes_hist.iloc[-1].sem()\n",
    "mean_est = call_hist.iloc[-1].Prima\n",
    "# i1 = st.t.interval(confianza,nscen-1, loc=mean_est, scale=sigma_est)\n",
    "i2 = st.norm.interval(confianza, loc=mean_est, scale=sigma_est)\n",
    "print(i2)"
   ]
  },
  {
   "cell_type": "code",
   "execution_count": 49,
   "metadata": {},
   "outputs": [
    {
     "data": {
      "text/plain": [
       "8.07"
      ]
     },
     "execution_count": 49,
     "metadata": {},
     "output_type": "execute_result"
    }
   ],
   "source": [
    "opt_valuar['JSON']['lastPrice']"
   ]
  },
  {
   "cell_type": "markdown",
   "metadata": {},
   "source": [
    "## Valuacion de metodo down and out"
   ]
  },
  {
   "cell_type": "code",
   "execution_count": 50,
   "metadata": {},
   "outputs": [
    {
     "data": {
      "text/plain": [
       "(0.0013176508099668406, 0.017983725313409405, 1.6666666666666667e-05)"
      ]
     },
     "execution_count": 50,
     "metadata": {},
     "output_type": "execute_result"
    }
   ],
   "source": [
    "mu = ret_msft.mean()\n",
    "sigma = ret_msft.std()\n",
    "r = 0.006/360\n",
    "mu, sigma, r"
   ]
  },
  {
   "cell_type": "code",
   "execution_count": 51,
   "metadata": {},
   "outputs": [
    {
     "data": {
      "text/plain": [
       "(260.0, 246.33)"
      ]
     },
     "execution_count": 51,
     "metadata": {},
     "output_type": "execute_result"
    }
   ],
   "source": [
    "K = opt_valuar.Strike\n",
    "S0 = opt_valuar.Underlying_Price\n",
    "K, S0"
   ]
  },
  {
   "cell_type": "code",
   "execution_count": 52,
   "metadata": {},
   "outputs": [],
   "source": [
    "# Definir barrera\n",
    "\n",
    "def opciones_barrera(s, k, mu, sigma, expires, bu = 0, bd = 0, n_sim = 10000):\n",
    "    \n",
    "    today = pd.Timestamp(date.today())\n",
    "    dates = pd.date_range(start = today, end = expiry, freq='B')\n",
    "    ndays = len(dates)\n",
    "    sim_ret = pd.DataFrame(sigma*np.random.randn(ndays,n_sim)+r,index=dates)\n",
    "    sim_closes = S0*np.exp(sim_ret.cumsum())\n",
    "    \n",
    "# 'CALL'- down-and-out\n",
    "# 'PUT'- up-and-out \n",
    "\n",
    "    # Calcular la prima de una opción Europea\n",
    "    call = pd.DataFrame({'Call Europea':np.exp(-r*ndays)*np.fmax(sim_closes - k, 0)\n",
    "                         .mean(axis=1)},index=dates)\n",
    "    put = pd.DataFrame({'Put Europea':np.exp(-r*ndays)*np.fmax(k - sim_closes, 0)\n",
    "                     .mean(axis=1)},index=dates)\n",
    "\n",
    "    # CALL OPTIONS \n",
    "    \n",
    "    I = (sim_closes < bd).cumsum(axis=0) == 0\n",
    "    calldo = pd.DataFrame({'Call down-and-out':np.exp(-r*ndays)*(I * np.fmax(sim_closes - k, 0))\n",
    "                       .mean(axis=1)},index=dates)   \n",
    "    \n",
    "       # PUT OPTIONS \n",
    "        \n",
    "    I = (sim_closes > bu).cumsum(axis=0) == 0\n",
    "    putuo = pd.DataFrame({'Put up-and-out':np.exp(-r*ndays)*(I * np.fmax(k - sim_closes, 0))\n",
    "                       .mean(axis=1)},index=dates)\n",
    "    \n",
    "      \n",
    "        \n",
    "    # Graficar el resultado de las dos primas previamente valuadas\n",
    "    ax = calldo.plot();\n",
    "    call.plot(ax=ax);\n",
    "    \n",
    "    ax = putuo.plot();\n",
    "    put.plot(ax=ax);"
   ]
  },
  {
   "cell_type": "code",
   "execution_count": 53,
   "metadata": {},
   "outputs": [
    {
     "data": {
      "text/plain": [
       "(260.0, 246.33)"
      ]
     },
     "execution_count": 53,
     "metadata": {},
     "output_type": "execute_result"
    }
   ],
   "source": [
    "s = closes_msft.iloc[-1]\n",
    "S0 = opt_valuar.Underlying_Price\n",
    "expires = opt_valuar.Expiry\n",
    "bu = 250\n",
    "bd = 230\n",
    "K,S0"
   ]
  },
  {
   "cell_type": "markdown",
   "metadata": {},
   "source": [
    "## Call down-and-out y Put up-and-out"
   ]
  },
  {
   "cell_type": "code",
   "execution_count": 54,
   "metadata": {},
   "outputs": [
    {
     "data": {
      "image/png": "[encoded data removed]",
      "text/plain": [
       "<Figure size 432x288 with 1 Axes>"
      ]
     },
     "metadata": {
      "needs_background": "light"
     },
     "output_type": "display_data"
    },
    {
     "data": {
      "image/png": "[encoded data removed]",
      "text/plain": [
       "<Figure size 432x288 with 1 Axes>"
      ]
     },
     "metadata": {
      "needs_background": "light"
     },
     "output_type": "display_data"
    }
   ],
   "source": [
    "opciones_barrera(S0, K, mu, sigma, expires, bu=bu, bd=bd)"
   ]
  },
  {
   "cell_type": "markdown",
   "metadata": {},
   "source": [
    "El comportamiento de estas opciones es peculiar debido a que el strike price esta por debajo al spot lo cual cumple con el objetivo de abaratar la prima. Quizas no sea el precio mas bajo de prima pero esto es considerando la posibilidad de emplear la opcion."
   ]
  },
  {
   "cell_type": "code",
   "execution_count": 55,
   "metadata": {},
   "outputs": [
    {
     "data": {
      "image/png": "[encoded data removed]",
      "text/plain": [
       "<Figure size 432x288 with 1 Axes>"
      ]
     },
     "metadata": {
      "needs_background": "light"
     },
     "output_type": "display_data"
    },
    {
     "data": {
      "image/png": "[encoded data removed]",
      "text/plain": [
       "<Figure size 432x288 with 1 Axes>"
      ]
     },
     "metadata": {
      "needs_background": "light"
     },
     "output_type": "display_data"
    }
   ],
   "source": [
    "s = closes_msft.iloc[-1]\n",
    "mu = ret_msft.mean()\n",
    "sigma = ret_msft.std()\n",
    "expires = opt_valuar.Expiry\n",
    "bu = 250\n",
    "bd = 230\n",
    "opciones_barrera(s, 240, mu, sigma, expires, bu=bu, bd=bd)"
   ]
  },
  {
   "cell_type": "markdown",
   "metadata": {},
   "source": [
    "En el caso de un valor strike menor cambia el precio de la prima de la opcion put volviendola mas cara."
   ]
  },
  {
   "cell_type": "markdown",
   "metadata": {},
   "source": [
    "La opcion barrera call seria muy buena alternativa al buscar comprar acciones de Microsoft porque si logra abaratar el precio de la prima. La opcion put facilitaria una ganancia en caso de necesitar vender dicha accion."
   ]
  },
  {
   "cell_type": "markdown",
   "metadata": {},
   "source": [
    "<script>\n",
    "  $(document).ready(function(){\n",
    "    $('div.prompt').hide();\n",
    "    $('div.back-to-top').hide();\n",
    "    $('nav#menubar').hide();\n",
    "    $('.breadcrumb').hide();\n",
    "    $('.hidden-print').hide();\n",
    "  });\n",
    "</script>\n",
    "\n",
    "<footer id=\"attribution\" style=\"float:right; color:#808080; background:#fff;\">\n",
    "Created with Jupyter by Oscar David Jaramillo Z.\n",
    "</footer>"
   ]
  }
 ],
 "metadata": {
  "kernelspec": {
   "display_name": "Python 3",
   "language": "python",
   "name": "python3"
  },
  "language_info": {
   "codemirror_mode": {
    "name": "ipython",
    "version": 3
   },
   "file_extension": ".py",
   "mimetype": "text/x-python",
   "name": "python",
   "nbconvert_exporter": "python",
   "pygments_lexer": "ipython3",
   "version": "3.7.4"
  }
 },
 "nbformat": 4,
 "nbformat_minor": 2
}
