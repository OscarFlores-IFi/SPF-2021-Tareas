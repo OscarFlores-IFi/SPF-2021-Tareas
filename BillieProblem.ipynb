{
 "cells": [
  {
   "cell_type": "markdown",
   "metadata": {},
   "source": [
    "This is a simulation done as practice for one previous semester. \n",
    "\n",
    "The instruction says that there's an ant who wants to reach to the opposite corner of where it is. \n",
    "It can not go further than the matrix dimension, and it starts at position 0,0. The task is to calculate the probabilities of this ant (his name is Billie) to reach to the opposite corner at n,n. Where n is the lenght of any of the sides of the matrix. "
   ]
  },
  {
   "cell_type": "code",
   "execution_count": null,
   "metadata": {},
   "outputs": [],
   "source": []
  },
  {
   "cell_type": "code",
   "execution_count": null,
   "metadata": {},
   "outputs": [],
   "source": [
    "import numpy as np\n",
    "import random\n",
    "import matplotlib.pyplot as plt\n",
    "import pandas as pd"
   ]
  },
  {
   "cell_type": "code",
   "execution_count": 16,
   "metadata": {},
   "outputs": [],
   "source": [
    "# Simulemos a la hormiga Billie\n",
    "# Inicia en la posición (0,0)\n",
    "P0 = np.zeros(2)\n",
    "# Billie está encerrado en una matriz de 6x6 y no se puede mover fuera de esta matriz.\n",
    "def posibles(posicion_billie,x=6,y=6):\n",
    "    posibilidades = []\n",
    "    if posicion_billie[0] > 0:\n",
    "        posibilidades.append(np.array([-1,0]))\n",
    "    if posicion_billie[0] < x:\n",
    "        posibilidades.append(np.array([1,0]))\n",
    "    if posicion_billie[1] > 0:\n",
    "        posibilidades.append(np.array([0,-1]))\n",
    "    if posicion_billie[1] < y:\n",
    "        posibilidades.append(np.array([0,1]))\n",
    "    \n",
    "    if len(posibilidades) > 1:\n",
    "        return posibilidades\n",
    "    return [posibilidades]"
   ]
  },
  {
   "cell_type": "code",
   "execution_count": 17,
   "metadata": {},
   "outputs": [
    {
     "data": {
      "text/plain": [
       "[array([1, 0]), array([0, 1])]"
      ]
     },
     "execution_count": 17,
     "metadata": {},
     "output_type": "execute_result"
    }
   ],
   "source": [
    "mov = posibles(P0)\n",
    "mov"
   ]
  },
  {
   "cell_type": "code",
   "execution_count": 18,
   "metadata": {},
   "outputs": [],
   "source": [
    "# Adicional a esto, sabemos que Billie no puede pisar donde haya pisado antes.\n",
    "def movimiento(posibles, historial_pisadas, x=6, y=6):\n",
    "    mov = posibles(historial_pisadas[-1], x, y)\n",
    "    mov_results = historial_pisadas[-1] + mov\n",
    "    tup_mr = [tuple(i) for i in mov_results]\n",
    "    tup_hist = [tuple(i) for i in historial_pisadas]\n",
    "\n",
    "    movs = [(np.array(x) - historial_pisadas[-1]) for x in tup_mr if x not in tup_hist]\n",
    "    if len(movs) > 0:\n",
    "        return random.choice(movs)    \n",
    "    return [0,0]"
   ]
  },
  {
   "cell_type": "code",
   "execution_count": 19,
   "metadata": {},
   "outputs": [],
   "source": [
    "# Si quisieramos ver los primeros n pasos de Billie:\n",
    "#historial_pisadas = [P0]\n",
    "#for _ in range(20):\n",
    "#    mov = movimiento(posibles, historial_pisadas)\n",
    "#    historial_pisadas.append(historial_pisadas[-1] + mov)\n",
    "#historial_pisadas"
   ]
  },
  {
   "cell_type": "code",
   "execution_count": 33,
   "metadata": {},
   "outputs": [],
   "source": [
    "def corrida_Billie(x = 6, y = 6):\n",
    "    historial_pisadas = [P0]\n",
    "    terminado = False\n",
    "    while not terminado:\n",
    "        mov = movimiento(posibles, historial_pisadas, x, y)\n",
    "        historial_pisadas.append(historial_pisadas[-1] + mov)\n",
    "        if (historial_pisadas[-1] == [x,y]).all():\n",
    "            terminado = True\n",
    "            return 1,historial_pisadas\n",
    "        if len(historial_pisadas) > 1:\n",
    "            if (historial_pisadas[-1] == historial_pisadas[-2]).all():\n",
    "                terminado = True\n",
    "\n",
    "                return -1, historial_pisadas"
   ]
  },
  {
   "cell_type": "code",
   "execution_count": 23,
   "metadata": {},
   "outputs": [
    {
     "name": "stdout",
     "output_type": "stream",
     "text": [
      "Billie llegó a la meta!!!\n"
     ]
    },
    {
     "data": {
      "text/plain": [
       "[array([0., 0.]),\n",
       " array([1., 0.]),\n",
       " array([1., 1.]),\n",
       " array([0., 1.]),\n",
       " array([0., 2.]),\n",
       " array([1., 2.]),\n",
       " array([2., 2.]),\n",
       " array([3., 2.]),\n",
       " array([3., 3.]),\n",
       " array([2., 3.]),\n",
       " array([2., 4.]),\n",
       " array([3., 4.]),\n",
       " array([4., 4.]),\n",
       " array([5., 4.]),\n",
       " array([6., 4.]),\n",
       " array([6., 5.]),\n",
       " array([5., 5.]),\n",
       " array([5., 6.]),\n",
       " array([6., 6.])]"
      ]
     },
     "execution_count": 23,
     "metadata": {},
     "output_type": "execute_result"
    }
   ],
   "source": [
    "# Simulamos una 'corrida' de Billie hasta que se atasque o llege a la meta.           \n",
    "corrida1 = corrida_Billie()\n",
    "if corrida1[0] == 1:\n",
    "    print('Billie llegó a la meta!!!')\n",
    "else: \n",
    "    print('Billie no llegó a la meta :(')\n",
    "historial_pisadas = corrida1[1]\n",
    "historial_pisadas"
   ]
  },
  {
   "cell_type": "code",
   "execution_count": 24,
   "metadata": {},
   "outputs": [
    {
     "data": {
      "text/plain": [
       "[<matplotlib.lines.Line2D at 0x1f4522cabb0>]"
      ]
     },
     "execution_count": 24,
     "metadata": {},
     "output_type": "execute_result"
    },
    {
     "data": {
      "image/png": "[encoded data removed]",
      "text/plain": [
       "<Figure size 432x288 with 1 Axes>"
      ]
     },
     "metadata": {
      "needs_background": "light"
     },
     "output_type": "display_data"
    }
   ],
   "source": [
    "# Veamos cuál fue el recorrido de Billie: \n",
    "plt.plot(np.array(historial_pisadas)[:,0],np.array(historial_pisadas)[:,1], '-o')"
   ]
  },
  {
   "cell_type": "code",
   "execution_count": 26,
   "metadata": {},
   "outputs": [
    {
     "data": {
      "text/plain": [
       "array([ 1., -1., -1., -1., -1., -1., -1.,  1., -1., -1.,  1., -1., -1.,\n",
       "       -1., -1., -1., -1., -1.,  1., -1., -1.,  1.,  1., -1., -1., -1.,\n",
       "       -1.,  1., -1.,  1.,  1., -1., -1.,  1., -1., -1., -1., -1., -1.,\n",
       "       -1., -1.,  1., -1., -1., -1., -1., -1., -1., -1., -1.])"
      ]
     },
     "execution_count": 26,
     "metadata": {},
     "output_type": "execute_result"
    }
   ],
   "source": [
    "# Esa fue una corrida de Billie, veamos que tal le va en el largo plazo...\n",
    "n_corridas = 5000\n",
    "corridas = np.zeros(n_corridas,)\n",
    "for i in range(n_corridas):\n",
    "    corridas[i] = corrida_Billie()[0]\n",
    "corridas[::100]"
   ]
  },
  {
   "cell_type": "code",
   "execution_count": 27,
   "metadata": {},
   "outputs": [
    {
     "data": {
      "text/plain": [
       "-1.0    3699\n",
       " 1.0    1301\n",
       "dtype: int64"
      ]
     },
     "execution_count": 27,
     "metadata": {},
     "output_type": "execute_result"
    }
   ],
   "source": [
    "# En n_corridas, cuantas veces llegó a su meta(1)? y cuantas no(-1)?\n",
    "pd.value_counts(corridas)"
   ]
  },
  {
   "cell_type": "code",
   "execution_count": 28,
   "metadata": {},
   "outputs": [
    {
     "data": {
      "text/plain": [
       "0.2602"
      ]
     },
     "execution_count": 28,
     "metadata": {},
     "output_type": "execute_result"
    }
   ],
   "source": [
    "# Entonces, la probabilidad de que Billie llegue a casa es de: \n",
    "corridas[corridas == 1].sum()/n_corridas"
   ]
  },
  {
   "cell_type": "code",
   "execution_count": 29,
   "metadata": {},
   "outputs": [
    {
     "data": {
      "text/plain": [
       "[<matplotlib.lines.Line2D at 0x1f45247b2b0>]"
      ]
     },
     "execution_count": 29,
     "metadata": {},
     "output_type": "execute_result"
    },
    {
     "data": {
      "image/png": "[encoded data removed]",
      "text/plain": [
       "<Figure size 432x288 with 1 Axes>"
      ]
     },
     "metadata": {
      "needs_background": "light"
     },
     "output_type": "display_data"
    }
   ],
   "source": [
    "# Al parecer Billie es bastante consistente... Pobre Billie\n",
    "plt.plot(corridas.cumsum())"
   ]
  },
  {
   "cell_type": "code",
   "execution_count": 120,
   "metadata": {},
   "outputs": [],
   "source": [
    "# Ok ok, pero eso fue cuando billie esta en una matriz de 6X6, pero...\n",
    "# Que pasa con las probabilidades cuando esta una de 2x2, 3x3, 4x4, ..., 10x10?\n",
    "\n",
    "def Corridas(distancias, n_corridas):\n",
    "    prob = np.zeros(len(distancias),)\n",
    "    for d in range(len(distancias)):\n",
    "        x, y = distancias[d], distancias[d]\n",
    "        corridas = np.array([corrida_Billie(x, y)[0] for _ in range(n_corridas)])\n",
    "        prob[d] = corridas[corridas == 1].sum()/n_corridas\n",
    "    return prob\n",
    "distancias = [2,3,5,7,11,13,19,23,29]\n",
    "n_corridas = 5000\n",
    "prob = Corridas(distancias, n_corridas)"
   ]
  },
  {
   "cell_type": "code",
   "execution_count": 123,
   "metadata": {},
   "outputs": [
    {
     "data": {
      "text/plain": [
       "array([0.7736, 0.5698, 0.3326, 0.2   , 0.0778, 0.049 , 0.0156, 0.0068,\n",
       "       0.0024])"
      ]
     },
     "execution_count": 123,
     "metadata": {},
     "output_type": "execute_result"
    }
   ],
   "source": [
    "prob"
   ]
  },
  {
   "cell_type": "code",
   "execution_count": 121,
   "metadata": {},
   "outputs": [
    {
     "data": {
      "text/plain": [
       "[<matplotlib.lines.Line2D at 0x1f4580ff430>]"
      ]
     },
     "execution_count": 121,
     "metadata": {},
     "output_type": "execute_result"
    },
    {
     "data": {
      "image/png": "[encoded data removed]",
      "text/plain": [
       "<Figure size 432x288 with 1 Axes>"
      ]
     },
     "metadata": {
      "needs_background": "light"
     },
     "output_type": "display_data"
    }
   ],
   "source": [
    "# Grafiquemos las probabilidades de que Billie llegue a su destino, con respecto a la longitud de la matriz (cuadrada).\n",
    "plt.plot(distancias,prob, '-o')"
   ]
  },
  {
   "cell_type": "code",
   "execution_count": 138,
   "metadata": {},
   "outputs": [],
   "source": [
    "# Por último, vemos un recorrido de Billie cuando está un una de 20x20 y logra llegar a la meta! \n",
    "corrida20 = corrida_Billie(20,20)"
   ]
  },
  {
   "cell_type": "code",
   "execution_count": 136,
   "metadata": {},
   "outputs": [
    {
     "data": {
      "text/plain": [
       "[<matplotlib.lines.Line2D at 0x1f45893aca0>]"
      ]
     },
     "execution_count": 136,
     "metadata": {},
     "output_type": "execute_result"
    },
    {
     "data": {
      "image/png": "[encoded data removed]",
      "text/plain": [
       "<Figure size 432x288 with 1 Axes>"
      ]
     },
     "metadata": {
      "needs_background": "light"
     },
     "output_type": "display_data"
    }
   ],
   "source": [
    "# Este suceso tiene una probabilidad de aproximadamente 1/64.\n",
    "plt.plot(np.array(corrida20[1])[:,0],np.array(corrida20[1])[:,1], '-', linewidth=1)"
   ]
  },
  {
   "cell_type": "markdown",
   "metadata": {},
   "source": [
    "### Moraleja: No mandes a Billie tan lejos, lo más probable es que no llegue :("
   ]
  },
  {
   "cell_type": "code",
   "execution_count": null,
   "metadata": {},
   "outputs": [],
   "source": []
  }
 ],
 "metadata": {
  "kernelspec": {
   "display_name": "Python 3",
   "language": "python",
   "name": "python3"
  },
  "language_info": {
   "codemirror_mode": {
    "name": "ipython",
    "version": 3
   },
   "file_extension": ".py",
   "mimetype": "text/x-python",
   "name": "python",
   "nbconvert_exporter": "python",
   "pygments_lexer": "ipython3",
   "version": "3.8.3"
  }
 },
 "nbformat": 4,
 "nbformat_minor": 4
}
